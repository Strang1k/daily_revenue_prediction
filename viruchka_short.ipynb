{
 "cells": [
  {
   "cell_type": "code",
   "execution_count": 405,
   "metadata": {},
   "outputs": [],
   "source": [
    "from pickle import load as pickle_load\n",
    "from numpy import array as np_array\n",
    "from pandas import DataFrame as pd_DataFrame\n",
    "from pandas import cut as pd_cut\n",
    "from enum import Enum"
   ]
  },
  {
   "cell_type": "code",
   "execution_count": 406,
   "metadata": {},
   "outputs": [],
   "source": [
    "#С предсказаниями кбм точно все хорошо с любым форматом 1 и '1'\n",
    "#knr все ок если формат [0, 1, 5, 2, 0, 'wd']\n",
    "#lgbmr все ок если формат [1, 2, 3, 4, 5, 'wd]"
   ]
  },
  {
   "cell_type": "code",
   "execution_count": 407,
   "metadata": {},
   "outputs": [],
   "source": [
    "with open('ohe', 'rb') as f: #one hot encoder\n",
    "    ohe = pickle_load(f) \n",
    "\n",
    "with open('cmbmodel', 'rb') as f: #catboost\n",
    "    cbm = pickle_load(f)\n",
    "\n",
    "with open('lgbm', 'rb') as f:\n",
    "    lgbm = pickle_load(f)  #lgbm\n",
    "\n",
    "with open('knr', 'rb') as f:\n",
    "    knr = pickle_load(f)  #kn regressor\n",
    "\n",
    "with open('rfrblend', 'rb') as f:\n",
    "    rfrblend = pickle_load(f) #три предикта от предыдущих моделей на вход"
   ]
  },
  {
   "cell_type": "code",
   "execution_count": 416,
   "metadata": {},
   "outputs": [],
   "source": [
    "#Можно в принципе просто через cbm.predict([1, 2, 3, 4, 5, 'wd']) взаимодейстовать\n",
    "\n",
    "with open('cbm7', 'rb') as f:\n",
    "    cbm7 = pickle_load(f) #тот же вход, что в cmb + среднее за последние 7д в конце"
   ]
  },
  {
   "cell_type": "markdown",
   "metadata": {},
   "source": [
    "wtl работает с указанием столбца <br/>\n",
    "ttb работает просто входом, но на одном примере <br/>\n",
    "tocat работает просто с входом на всей выборке <br/>\n",
    "ohe работает на всей выборке <br/>\n"
   ]
  },
  {
   "cell_type": "code",
   "execution_count": 409,
   "metadata": {},
   "outputs": [],
   "source": [
    "def weekday_to_label(series, weekdayz = 'Ru'): #можно задать и другой enum, исправив функцию\n",
    "\n",
    "    \"\"\"\n",
    "        Список вида ['пн', 'вт', 'ср', 'вс'] превращает в [1, 2, 3, 7]\n",
    "        Необходимо передать список и вид преобразования или собственную функцию \n",
    "        'Ru' - классические ['пн', 'вт', 'ср'] -> [1, 2 , 3]\n",
    "        'Eng' - ['sun', 'mon', 'tue'] -> [1, 2, 3]\n",
    "        'Eng1' - ['mon', 'tue', 'wed'] -> [1, 2, 3]\n",
    "        \"\"\"\n",
    "\n",
    "    x = 0\n",
    "    if weekdayz == 'Ru':\n",
    "        weekdayz = Enum('weekday numeration', 'пн вт ср чт пт сб вс')\n",
    "\n",
    "    if weekdayz == 'Eng1':\n",
    "        weekdayz = Enum('weekday numeration', 'mon tue wed thu fri sat sun')\n",
    "\n",
    "    if weekdayz == 'Eng':\n",
    "        weekdayz = Enum('weekday numeration', 'sun mon tue wed thu fri sat')\n",
    "\n",
    "        \n",
    "\n",
    "    try:\n",
    "        if len(series) > 2:\n",
    "            try:\n",
    "                for each in range(0, len(series)):\n",
    "                    series[each] = weekdayz[series[each].lower()]._value_ #изначально была конструкция \n",
    "                    x =+ 1                   #вида df['День недели'][each] = weekdayz[df['День недели'][each].lower()]._value_\n",
    "            \n",
    "            except KeyError:\n",
    "                print('KeyError ошибка \\n Индексы должны быть по порядку, иначе не работает')\n",
    "\n",
    "            except AttributeError:\n",
    "                print('AttributeError ошибка \\n Возможно, часть уже преобразована в цифры \\n Не умею работать с цифрами')\n",
    "        if len(series) == 2:\n",
    "            return weekdayz[series.lower()]._value_ #возможно нужно будет поправить\n",
    "    except:\n",
    "        print('Неверные данные')"
   ]
  },
  {
   "cell_type": "code",
   "execution_count": 410,
   "metadata": {},
   "outputs": [],
   "source": [
    "def temp_to_bins(day_params): #для работоспособности нужен pd.cut(), не работает с списком дней, у меня не получилось\n",
    "    day_params[3] = int(day_params[3])\n",
    "    bins = [-50, 0, 15, 25, 50]\n",
    "    labels = [1, 2, 3, 4]\n",
    "    if day_params[3] > -50 and day_params[3] < 50:\n",
    "        day_params[3] = pd_cut([day_params[3]], bins=bins, labels=labels)[0]\n",
    "        return day_params\n",
    "    else:\n",
    "        print('Измените температуру на реалистичную')"
   ]
  },
  {
   "cell_type": "code",
   "execution_count": 411,
   "metadata": {},
   "outputs": [],
   "source": [
    "def to_category(day_params): \n",
    "    for col in day_params.select_dtypes(include=['int64', 'object']):\n",
    "        day_params[col] = day_params[col].astype('category')\n"
   ]
  },
  {
   "cell_type": "markdown",
   "metadata": {},
   "source": [
    "***"
   ]
  },
  {
   "cell_type": "code",
   "execution_count": 412,
   "metadata": {},
   "outputs": [],
   "source": [
    "def predictpls(day_variables):\n",
    "# day_variables = np_array(day_variables)\n",
    "   \n",
    "   #Общая предобработка\n",
    "   day_variables[-1] = weekday_to_label(day_variables[-1])\n",
    "   day_variables = temp_to_bins(day_variables)\n",
    "   df = pd_DataFrame(columns=['Девочка', 'Мальчик', 'Месяц', 'Температура', 'Дождь', 'День недели'])\n",
    "   df.loc[0] = day_variables\n",
    "\n",
    "   x2 = cbm.predict(day_variables) #тут может выдавать предсказания cbm\n",
    "\n",
    "   #предобработка для knr\n",
    "   df1 = df.copy()\n",
    "   df1 = ohe.transform(df1)\n",
    "   x1 = knr.predict(df1)\n",
    "\n",
    "   #предобработка для lgbm\n",
    "   to_category(df)\n",
    "   x3 = lgbm.predict(df)\n",
    "\n",
    "\n",
    "\n",
    "   data = {'x1':[x1], 'x2':[x2], 'x3':[x3]}\n",
    "   return rfrblend.predict(pd_DataFrame(data=data))"
   ]
  },
  {
   "cell_type": "code",
   "execution_count": 415,
   "metadata": {},
   "outputs": [
    {
     "data": {
      "text/plain": [
       "array([5711.54370629])"
      ]
     },
     "execution_count": 415,
     "metadata": {},
     "output_type": "execute_result"
    }
   ],
   "source": [
    "predictpls([0, 1, 6, 28, 0, 'ср'])"
   ]
  }
 ],
 "metadata": {
  "kernelspec": {
   "display_name": "Python 3.9.6 64-bit",
   "language": "python",
   "name": "python3"
  },
  "language_info": {
   "codemirror_mode": {
    "name": "ipython",
    "version": 3
   },
   "file_extension": ".py",
   "mimetype": "text/x-python",
   "name": "python",
   "nbconvert_exporter": "python",
   "pygments_lexer": "ipython3",
   "version": "3.9.6"
  },
  "orig_nbformat": 4,
  "vscode": {
   "interpreter": {
    "hash": "1b24010e48f9066a6a90c6c06fb102c81381300da92a8a7b4c6691d23d6bcce8"
   }
  }
 },
 "nbformat": 4,
 "nbformat_minor": 2
}
