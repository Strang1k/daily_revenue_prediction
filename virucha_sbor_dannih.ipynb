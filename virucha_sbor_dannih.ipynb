{
 "cells": [
  {
   "cell_type": "code",
   "execution_count": null,
   "metadata": {},
   "outputs": [],
   "source": [
    "df = pd.read_csv('C:\\Games\\Learnin\\wether.csv',sep=';', on_bad_lines='skip')"
   ]
  },
  {
   "cell_type": "code",
   "execution_count": null,
   "metadata": {},
   "outputs": [],
   "source": [
    "x = list(range(6, len(x), 8))"
   ]
  },
  {
   "cell_type": "code",
   "execution_count": null,
   "metadata": {},
   "outputs": [],
   "source": [
    "y = df.iloc[x, [0, 11]]"
   ]
  },
  {
   "cell_type": "code",
   "execution_count": null,
   "metadata": {},
   "outputs": [],
   "source": [
    "Везде где не указан дождь ставим 0"
   ]
  },
  {
   "cell_type": "code",
   "execution_count": null,
   "metadata": {},
   "outputs": [],
   "source": [
    "y = y.fillna('0')"
   ]
  },
  {
   "cell_type": "markdown",
   "metadata": {},
   "source": [
    "Вкладка с дождями"
   ]
  },
  {
   "cell_type": "code",
   "execution_count": null,
   "metadata": {},
   "outputs": [],
   "source": [
    "ww = y['WW'].copy()"
   ]
  },
  {
   "cell_type": "markdown",
   "metadata": {},
   "source": [
    "Меняем дожди на 1"
   ]
  },
  {
   "cell_type": "code",
   "execution_count": null,
   "metadata": {},
   "outputs": [],
   "source": [
    "ww = np.where((ww != '0'), 1, ww)"
   ]
  },
  {
   "cell_type": "code",
   "execution_count": null,
   "metadata": {},
   "outputs": [
    {
     "data": {
      "text/plain": [
       "(460,)"
      ]
     },
     "metadata": {},
     "output_type": "display_data"
    }
   ],
   "source": [
    "ww.shape"
   ]
  },
  {
   "cell_type": "code",
   "execution_count": null,
   "metadata": {},
   "outputs": [
    {
     "data": {
      "text/plain": [
       "(460,)"
      ]
     },
     "metadata": {},
     "output_type": "display_data"
    }
   ],
   "source": [
    "y['WW'].shape"
   ]
  },
  {
   "cell_type": "markdown",
   "metadata": {},
   "source": [
    "Получается что сходится, меняем/добавляем столбец"
   ]
  },
  {
   "cell_type": "code",
   "execution_count": null,
   "metadata": {},
   "outputs": [],
   "source": [
    "y['ww'] = ww"
   ]
  },
  {
   "cell_type": "code",
   "execution_count": null,
   "metadata": {},
   "outputs": [
    {
     "data": {
      "text/html": [
       "<div>\n",
       "<style scoped>\n",
       "    .dataframe tbody tr th:only-of-type {\n",
       "        vertical-align: middle;\n",
       "    }\n",
       "\n",
       "    .dataframe tbody tr th {\n",
       "        vertical-align: top;\n",
       "    }\n",
       "\n",
       "    .dataframe thead th {\n",
       "        text-align: right;\n",
       "    }\n",
       "</style>\n",
       "<table border=\"1\" class=\"dataframe\">\n",
       "  <thead>\n",
       "    <tr style=\"text-align: right;\">\n",
       "      <th></th>\n",
       "      <th>Местное время</th>\n",
       "      <th>WW</th>\n",
       "      <th>ww</th>\n",
       "    </tr>\n",
       "  </thead>\n",
       "  <tbody>\n",
       "    <tr>\n",
       "      <th>03.08.2022 21:00</th>\n",
       "      <td>21.4</td>\n",
       "      <td>0</td>\n",
       "      <td>0</td>\n",
       "    </tr>\n",
       "    <tr>\n",
       "      <th>02.08.2022 21:00</th>\n",
       "      <td>19.1</td>\n",
       "      <td>Морось.</td>\n",
       "      <td>1</td>\n",
       "    </tr>\n",
       "    <tr>\n",
       "      <th>01.08.2022 21:00</th>\n",
       "      <td>14.8</td>\n",
       "      <td>Дождь.</td>\n",
       "      <td>1</td>\n",
       "    </tr>\n",
       "    <tr>\n",
       "      <th>31.07.2022 21:00</th>\n",
       "      <td>19.1</td>\n",
       "      <td>0</td>\n",
       "      <td>0</td>\n",
       "    </tr>\n",
       "    <tr>\n",
       "      <th>30.07.2022 21:00</th>\n",
       "      <td>17.5</td>\n",
       "      <td>0</td>\n",
       "      <td>0</td>\n",
       "    </tr>\n",
       "    <tr>\n",
       "      <th>...</th>\n",
       "      <td>...</td>\n",
       "      <td>...</td>\n",
       "      <td>...</td>\n",
       "    </tr>\n",
       "    <tr>\n",
       "      <th>05.05.2021 12:00</th>\n",
       "      <td>5.8</td>\n",
       "      <td>0</td>\n",
       "      <td>0</td>\n",
       "    </tr>\n",
       "    <tr>\n",
       "      <th>04.05.2021 12:00</th>\n",
       "      <td>2.7</td>\n",
       "      <td>Дождь со снегом или другими видами твердых оса...</td>\n",
       "      <td>1</td>\n",
       "    </tr>\n",
       "    <tr>\n",
       "      <th>03.05.2021 12:00</th>\n",
       "      <td>7.6</td>\n",
       "      <td>0</td>\n",
       "      <td>0</td>\n",
       "    </tr>\n",
       "    <tr>\n",
       "      <th>02.05.2021 12:00</th>\n",
       "      <td>8.3</td>\n",
       "      <td>0</td>\n",
       "      <td>0</td>\n",
       "    </tr>\n",
       "    <tr>\n",
       "      <th>01.05.2021 12:00</th>\n",
       "      <td>8.0</td>\n",
       "      <td>0</td>\n",
       "      <td>0</td>\n",
       "    </tr>\n",
       "  </tbody>\n",
       "</table>\n",
       "<p>460 rows × 3 columns</p>\n",
       "</div>"
      ],
      "text/plain": [
       "                  Местное время  \\\n",
       "03.08.2022 21:00           21.4   \n",
       "02.08.2022 21:00           19.1   \n",
       "01.08.2022 21:00           14.8   \n",
       "31.07.2022 21:00           19.1   \n",
       "30.07.2022 21:00           17.5   \n",
       "...                         ...   \n",
       "05.05.2021 12:00            5.8   \n",
       "04.05.2021 12:00            2.7   \n",
       "03.05.2021 12:00            7.6   \n",
       "02.05.2021 12:00            8.3   \n",
       "01.05.2021 12:00            8.0   \n",
       "\n",
       "                                                                 WW ww  \n",
       "03.08.2022 21:00                                                  0  0  \n",
       "02.08.2022 21:00                                            Морось.  1  \n",
       "01.08.2022 21:00                                             Дождь.  1  \n",
       "31.07.2022 21:00                                                  0  0  \n",
       "30.07.2022 21:00                                                  0  0  \n",
       "...                                                             ... ..  \n",
       "05.05.2021 12:00                                                  0  0  \n",
       "04.05.2021 12:00  Дождь со снегом или другими видами твердых оса...  1  \n",
       "03.05.2021 12:00                                                  0  0  \n",
       "02.05.2021 12:00                                                  0  0  \n",
       "01.05.2021 12:00                                                  0  0  \n",
       "\n",
       "[460 rows x 3 columns]"
      ]
     },
     "metadata": {},
     "output_type": "display_data"
    }
   ],
   "source": [
    "y"
   ]
  },
  {
   "cell_type": "markdown",
   "metadata": {},
   "source": [
    "Записываем в файл в эксель, где я собираю данные"
   ]
  },
  {
   "cell_type": "code",
   "execution_count": null,
   "metadata": {},
   "outputs": [],
   "source": [
    "writer = pd.ExcelWriter('may21_aug22_wether_0_1.xlsx') #file name\n",
    "y.to_excel(writer, 'wether_by_date')\n",
    "writer.save()"
   ]
  },
  {
   "cell_type": "markdown",
   "metadata": {},
   "source": [
    "Мерджил вручную в excel'е"
   ]
  },
  {
   "cell_type": "markdown",
   "metadata": {},
   "source": [
    "Записанная выручка"
   ]
  },
  {
   "cell_type": "code",
   "execution_count": null,
   "metadata": {},
   "outputs": [],
   "source": [
    "d4 = [4407, 3800, 2285, 3818, 4663, 2746, 4120, 3800, 2460, 3580, 3865, 1884, 2800, 4280, 3422, 4155, 4646, 4550]\n",
    "d5 = [5390, 3190, 2215, 1810, 2800, 2280, 3060, 2184, 3060, 2470, 2400, 2820, 3420, 5340, 4800, 5640, 4680, 3360, 4920, 4020, 4740, 6120, 2400, 4860, 5220, 4020, 4260, 5580, 4260, 4040, 5460 ]\n",
    "d6 = [6240, 6240, 6300, 6240, 5760, 5520, 6360, 6960, 4980, 7080, 6540, 6780, 6480, 7320, 5760, 6780, 4920, 2700, 5340, 4440, 4500, 3480, 3960, 3960, 4920, 5040, 4260, 4860, 4440, 4560]\n",
    "d7 = [4260, 4800, 4600, 3480, 3300, 3840, 4200, 4020, 3880, 4800, 4200, 4480, 3720, 3450, 4080, 4140, 4710, 4890, 4620, 6300, 4410, 3870, 4320, 4650, 3810, 4640, 3210, 4260, 5090, 4500, 6270]\n",
    "d8 = [3360, 5190, 4890, 4890, 4980, 3150, 4830, 4560, 5110, 5400, 6150, 5400, 4870, 6750, 3890, 6190, 7620, 4710, 5880, 5610, 6380, 7410, 5520, 6030, 7320, 5330, 7020, 6220, 8210, 7020, 6800]\n",
    "d9 = [7050, 7080, 5710, 7650, 6150, 6900, 5980, 4800, 5670, 8250, 6060, 7410, 6210, 5640, 6960, 4380, 8880, 7380, 6030, 8310, 7570, 8880, 7290, 7290, 8430, 8400, 6400, 7300, 8070, 7090]\n",
    "d10 =[6900, 6400, 5600, 6840, 7580, 6800, 6630, 9120, 6210, 7740, 8340, 6840, 5070, 6370, 7840, 7720, 7390, 8710, 8300, 4880, 7110, 7190, 8470, 7300, 6580, 8000, 9090, 8240, 9870, 7750, 11060]\n",
    "d11 =[4900, 7560, 9580, 9860, 6620, 7490, 7970, 7400, 8300, 6410, 5880, 7200, 6300, 7800, 9860, 7200, 6500, 8200, 7300, 6800, 8500, 9360, 9530, 7730, 6730, 8520, 9160, 8030, 7960, 8390]\n",
    "d12 =[6920, 6320, 6100, 6460, 5820, 5350, 5270, 5800, 6240, 6100, 6900, 5450, 7890, 6410, 6660, 7510, 6020, 6770, 5510, 7600, 8280, 7530, 6770, 7200, 5930, 6380, 6670, 5800, 5620, 5300]\n",
    "\n",
    "p1  =[0000, 0000, 0000,  4030, 5590, 6150, 5800, 5550, 5200, 4490, 7870, 7290, 5600, 4490, 5800, 6095, 6415, 8940, 5410, 6275, 6625, 6850, 8150, 6510, 7670, 6270, 4590, 5915, 7520, 6370, 5160]\n",
    "p2  =[6500, 7200, 6800, 5600, 6670, 7540, 4700, 6060, 6230, 5135, 5050, 5600, 5395, 7585, 6975, 5500, 5130, 7895, 6475, 7500, 8820, 6445, 8280, 5750, 5600, 6260, 5830]\n",
    "p3  =[8160, 8500, 9160, 5950, 5750, 5700, 5600, 6170, 5070, 5500, 6120, 7880, 5650, 6010, 8210, 7520, 6700, 8330, 5480, 5010, 5580, 5790, 6010, 5780, 5320, 6600, 6060, 6800, 6475, 7360, 7200]\n",
    "p4  =[6500, 6940, 8160, 6020, 5800, 6200, 6640, 4380, 4550, 5600, 6200, 6410, 6800, 7670, 6360, 9070, 7870, 6345, 7500, 6300, 6720, 8310, 7200, 6500, 6460, 7180, 6200, 5890, 5730, 7300]\n",
    "p5  =[5445, 6240, 6200, 6250, 6290, 7500, 8625, 6400, 4220, 5830, 7080, 6040, 5795, 6595, 8090, 5870, 4655, 5645, 5600, 6200, 6250, 6250, 6245, 6415, 6055, 5025, 4540, 5500, 5345, 8395, 7800]\n",
    "p6 =[9115, 11250, 8590, 8495, 9200, 6500, 5920, 6200, 6500, 6975, 9950, 5825, 7510, 7175, 7385,12000, 7300, 9305, 4930, 7140, 7885, 9480, 8835, 8125, 7980, 6695, 6560, 7365, 7865, 7700]\n",
    "p7  =[7085, 3825, 5230, 5865, 7285, 6365, 6720, 6700, 7500, 8185, 8480, 5765, 5415, 6695, 8475, 5900, 8075, 5585, 6290, 4530, 6890, 4855, 7250, 8105, 5430, 6170, 5670, 5855, 6485, 7530, 4505]\n",
    "p8  =[5560, 5040]\n",
    "\n",
    "xx = [1111, 2222, 3333, 4444, 5555, 6666, 7777, 8888, 9999, 1010, 1111, 1212, 1313, 1414, 1515, 1616, 1717, 1818, 1919, 2020, 2121, 2222, 2323, 2424, 2525, 2626, 2727, 2828, 2929, 3030]"
   ]
  },
  {
   "cell_type": "code",
   "execution_count": null,
   "metadata": {},
   "outputs": [],
   "source": [
    "print(sum(d4))\n",
    "print(sum(d5))\n",
    "print(sum(d6))\n",
    "print(sum(d7))\n",
    "print(sum(d8))\n",
    "print(sum(d9))\n",
    "print(sum(d10))\n",
    "print(sum(d11))\n",
    "print(sum(d12))\n",
    "print(sum(p1))\n",
    "print(sum(p2))\n",
    "print(sum(p3))\n",
    "print(sum(p4))\n",
    "print(sum(p5))\n",
    "print(sum(p6))\n",
    "print(sum(p7))\n",
    "print(sum(p8))"
   ]
  },
  {
   "cell_type": "code",
   "execution_count": null,
   "metadata": {},
   "outputs": [],
   "source": [
    "fullspisok = d4.copy()"
   ]
  },
  {
   "cell_type": "code",
   "execution_count": null,
   "metadata": {},
   "outputs": [],
   "source": [
    "plist = d5, d6, d7, d8, d9, d10, d11, d12, p1, p2, p3, p4, p5, p6, p7, p8"
   ]
  },
  {
   "cell_type": "code",
   "execution_count": null,
   "metadata": {},
   "outputs": [],
   "source": [
    "for entry in plist:\n",
    "    for each in entry:\n",
    "        fullspisok.append(each)"
   ]
  },
  {
   "cell_type": "markdown",
   "metadata": {},
   "source": [
    "Так мы собрали выручку в один набор данных"
   ]
  },
  {
   "cell_type": "code",
   "execution_count": null,
   "metadata": {},
   "outputs": [],
   "source": [
    "fullspisok = pd.DataFrame(fullspisok)"
   ]
  },
  {
   "cell_type": "code",
   "execution_count": null,
   "metadata": {},
   "outputs": [],
   "source": [
    "writer = pd.ExcelWriter('excel_string.xlsx')\n",
    "fullspisok.to_excel(writer, 'excel_sting')\n",
    "writer.save()"
   ]
  }
 ],
 "metadata": {
  "kernelspec": {
   "display_name": "Python 3.9.6 64-bit",
   "language": "python",
   "name": "python3"
  },
  "language_info": {
   "name": "python",
   "version": "3.9.6"
  },
  "orig_nbformat": 4,
  "vscode": {
   "interpreter": {
    "hash": "1b24010e48f9066a6a90c6c06fb102c81381300da92a8a7b4c6691d23d6bcce8"
   }
  }
 },
 "nbformat": 4,
 "nbformat_minor": 2
}
