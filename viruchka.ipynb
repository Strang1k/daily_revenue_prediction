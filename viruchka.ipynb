{
 "cells": [
  {
   "cell_type": "code",
   "execution_count": 1,
   "metadata": {},
   "outputs": [],
   "source": [
    "import pandas as pd\n",
    "import numpy as np\n",
    "import matplotlib.pyplot as plt\n",
    "from scipy import stats\n",
    "from catboost import CatBoost\n",
    "from sklearn.ensemble import RandomForestRegressor\n",
    "from lightgbm import LGBMRegressor\n",
    "from catboost import Pool\n",
    "from sklearn.model_selection import train_test_split\n",
    "from sklearn.metrics import mean_squared_error\n",
    "from sklearn.preprocessing import LabelEncoder\n",
    "from sklearn.preprocessing import OneHotEncoder\n",
    "from sklearn.metrics import make_scorer\n",
    "from sklearn.pipeline import Pipeline\n",
    "from sklearn.model_selection import GridSearchCV"
   ]
  },
  {
   "cell_type": "markdown",
   "metadata": {},
   "source": [
    "Зафиксирую random seed"
   ]
  },
  {
   "cell_type": "code",
   "execution_count": 2,
   "metadata": {},
   "outputs": [],
   "source": [
    "rs = 1385 "
   ]
  },
  {
   "cell_type": "markdown",
   "metadata": {},
   "source": [
    "Собрал воедино график работы по сменам, отчеты выручки по датам, скачал сводку погоды на этот промежуток времени"
   ]
  },
  {
   "cell_type": "code",
   "execution_count": 3,
   "metadata": {},
   "outputs": [],
   "source": [
    "df = pd.read_csv('C:\\Games\\Learnin\\Выручка-бариста.csv', header=1)"
   ]
  },
  {
   "cell_type": "code",
   "execution_count": 4,
   "metadata": {},
   "outputs": [],
   "source": [
    "df = df.fillna('0')"
   ]
  },
  {
   "cell_type": "markdown",
   "metadata": {},
   "source": [
    "_________________________________________________________________"
   ]
  },
  {
   "cell_type": "code",
   "execution_count": 5,
   "metadata": {},
   "outputs": [
    {
     "data": {
      "text/plain": [
       "<AxesSubplot:>"
      ]
     },
     "execution_count": 5,
     "metadata": {},
     "output_type": "execute_result"
    },
    {
     "data": {
      "image/png": "[encoded data removed]",
      "text/plain": [
       "<Figure size 432x288 with 1 Axes>"
      ]
     },
     "metadata": {
      "needs_background": "light"
     },
     "output_type": "display_data"
    }
   ],
   "source": [
    "df.boxplot()"
   ]
  },
  {
   "cell_type": "code",
   "execution_count": 311,
   "metadata": {},
   "outputs": [
    {
     "data": {
      "text/plain": [
       "(454, 7)"
      ]
     },
     "execution_count": 311,
     "metadata": {},
     "output_type": "execute_result"
    }
   ],
   "source": [
    "df.shape"
   ]
  },
  {
   "cell_type": "markdown",
   "metadata": {},
   "source": [
    "Z-score и 2 сигма"
   ]
  },
  {
   "cell_type": "markdown",
   "metadata": {},
   "source": [
    "*"
   ]
  },
  {
   "cell_type": "code",
   "execution_count": 5,
   "metadata": {},
   "outputs": [],
   "source": [
    "z = stats.zscore(df['Выручка'])"
   ]
  },
  {
   "cell_type": "code",
   "execution_count": 6,
   "metadata": {},
   "outputs": [],
   "source": [
    "bd = list(np.where(abs(z) >2)[0])"
   ]
  },
  {
   "cell_type": "code",
   "execution_count": 7,
   "metadata": {},
   "outputs": [],
   "source": [
    "dfz = df.drop(index=bd)"
   ]
  },
  {
   "cell_type": "markdown",
   "metadata": {},
   "source": [
    "*"
   ]
  },
  {
   "cell_type": "code",
   "execution_count": 9,
   "metadata": {},
   "outputs": [
    {
     "data": {
      "text/html": [
       "<div>\n",
       "<style scoped>\n",
       "    .dataframe tbody tr th:only-of-type {\n",
       "        vertical-align: middle;\n",
       "    }\n",
       "\n",
       "    .dataframe tbody tr th {\n",
       "        vertical-align: top;\n",
       "    }\n",
       "\n",
       "    .dataframe thead th {\n",
       "        text-align: right;\n",
       "    }\n",
       "</style>\n",
       "<table border=\"1\" class=\"dataframe\">\n",
       "  <thead>\n",
       "    <tr style=\"text-align: right;\">\n",
       "      <th></th>\n",
       "      <th>Выручка</th>\n",
       "      <th>Месяц</th>\n",
       "      <th>Температура</th>\n",
       "      <th>Дождь</th>\n",
       "    </tr>\n",
       "  </thead>\n",
       "  <tbody>\n",
       "    <tr>\n",
       "      <th>count</th>\n",
       "      <td>432.000000</td>\n",
       "      <td>432.000000</td>\n",
       "      <td>432.000000</td>\n",
       "      <td>432.000000</td>\n",
       "    </tr>\n",
       "    <tr>\n",
       "      <th>mean</th>\n",
       "      <td>6277.430556</td>\n",
       "      <td>6.444444</td>\n",
       "      <td>10.898380</td>\n",
       "      <td>0.342593</td>\n",
       "    </tr>\n",
       "    <tr>\n",
       "      <th>std</th>\n",
       "      <td>1346.993256</td>\n",
       "      <td>3.104770</td>\n",
       "      <td>10.821842</td>\n",
       "      <td>0.475127</td>\n",
       "    </tr>\n",
       "    <tr>\n",
       "      <th>min</th>\n",
       "      <td>3150.000000</td>\n",
       "      <td>1.000000</td>\n",
       "      <td>-17.400000</td>\n",
       "      <td>0.000000</td>\n",
       "    </tr>\n",
       "    <tr>\n",
       "      <th>25%</th>\n",
       "      <td>5398.750000</td>\n",
       "      <td>4.000000</td>\n",
       "      <td>2.000000</td>\n",
       "      <td>0.000000</td>\n",
       "    </tr>\n",
       "    <tr>\n",
       "      <th>50%</th>\n",
       "      <td>6250.000000</td>\n",
       "      <td>6.000000</td>\n",
       "      <td>11.150000</td>\n",
       "      <td>0.000000</td>\n",
       "    </tr>\n",
       "    <tr>\n",
       "      <th>75%</th>\n",
       "      <td>7290.000000</td>\n",
       "      <td>9.000000</td>\n",
       "      <td>19.300000</td>\n",
       "      <td>1.000000</td>\n",
       "    </tr>\n",
       "    <tr>\n",
       "      <th>max</th>\n",
       "      <td>9360.000000</td>\n",
       "      <td>12.000000</td>\n",
       "      <td>33.600000</td>\n",
       "      <td>1.000000</td>\n",
       "    </tr>\n",
       "  </tbody>\n",
       "</table>\n",
       "</div>"
      ],
      "text/plain": [
       "           Выручка       Месяц  Температура       Дождь\n",
       "count   432.000000  432.000000   432.000000  432.000000\n",
       "mean   6277.430556    6.444444    10.898380    0.342593\n",
       "std    1346.993256    3.104770    10.821842    0.475127\n",
       "min    3150.000000    1.000000   -17.400000    0.000000\n",
       "25%    5398.750000    4.000000     2.000000    0.000000\n",
       "50%    6250.000000    6.000000    11.150000    0.000000\n",
       "75%    7290.000000    9.000000    19.300000    1.000000\n",
       "max    9360.000000   12.000000    33.600000    1.000000"
      ]
     },
     "execution_count": 9,
     "metadata": {},
     "output_type": "execute_result"
    }
   ],
   "source": [
    "dfz.describe()"
   ]
  },
  {
   "cell_type": "code",
   "execution_count": 10,
   "metadata": {},
   "outputs": [
    {
     "data": {
      "text/plain": [
       "<AxesSubplot:>"
      ]
     },
     "execution_count": 10,
     "metadata": {},
     "output_type": "execute_result"
    },
    {
     "data": {
      "image/png": "[encoded data removed]",
      "text/plain": [
       "<Figure size 432x288 with 1 Axes>"
      ]
     },
     "metadata": {
      "needs_background": "light"
     },
     "output_type": "display_data"
    }
   ],
   "source": [
    "dfz.boxplot(column='Выручка')"
   ]
  },
  {
   "cell_type": "markdown",
   "metadata": {},
   "source": [
    "Квартили и 3 сигма"
   ]
  },
  {
   "cell_type": "code",
   "execution_count": 11,
   "metadata": {},
   "outputs": [],
   "source": [
    "Q1 =  df['Выручка'].quantile(0.25)\n",
    "Q3 = df['Выручка'].quantile(0.75)\n",
    "IQR = Q3 - Q1"
   ]
  },
  {
   "cell_type": "code",
   "execution_count": 12,
   "metadata": {},
   "outputs": [
    {
     "data": {
      "text/plain": [
       "<AxesSubplot:>"
      ]
     },
     "execution_count": 12,
     "metadata": {},
     "output_type": "execute_result"
    },
    {
     "data": {
      "image/png": "[encoded data removed]",
      "text/plain": [
       "<Figure size 432x288 with 1 Axes>"
      ]
     },
     "metadata": {
      "needs_background": "light"
     },
     "output_type": "display_data"
    }
   ],
   "source": [
    "dfq = df[(df['Выручка'] > Q1-1.5*IQR) & (df['Выручка'] < Q3+1.5*IQR)]\n",
    "dfq.boxplot(column=\"Выручка\")"
   ]
  },
  {
   "cell_type": "code",
   "execution_count": 13,
   "metadata": {},
   "outputs": [
    {
     "data": {
      "text/html": [
       "<div>\n",
       "<style scoped>\n",
       "    .dataframe tbody tr th:only-of-type {\n",
       "        vertical-align: middle;\n",
       "    }\n",
       "\n",
       "    .dataframe tbody tr th {\n",
       "        vertical-align: top;\n",
       "    }\n",
       "\n",
       "    .dataframe thead th {\n",
       "        text-align: right;\n",
       "    }\n",
       "</style>\n",
       "<table border=\"1\" class=\"dataframe\">\n",
       "  <thead>\n",
       "    <tr style=\"text-align: right;\">\n",
       "      <th></th>\n",
       "      <th>Выручка</th>\n",
       "      <th>Месяц</th>\n",
       "      <th>Температура</th>\n",
       "      <th>Дождь</th>\n",
       "    </tr>\n",
       "  </thead>\n",
       "  <tbody>\n",
       "    <tr>\n",
       "      <th>count</th>\n",
       "      <td>447.000000</td>\n",
       "      <td>447.000000</td>\n",
       "      <td>447.000000</td>\n",
       "      <td>447.000000</td>\n",
       "    </tr>\n",
       "    <tr>\n",
       "      <th>mean</th>\n",
       "      <td>6267.762864</td>\n",
       "      <td>6.467562</td>\n",
       "      <td>10.965772</td>\n",
       "      <td>0.340045</td>\n",
       "    </tr>\n",
       "    <tr>\n",
       "      <th>std</th>\n",
       "      <td>1473.138228</td>\n",
       "      <td>3.092476</td>\n",
       "      <td>10.760291</td>\n",
       "      <td>0.474255</td>\n",
       "    </tr>\n",
       "    <tr>\n",
       "      <th>min</th>\n",
       "      <td>2400.000000</td>\n",
       "      <td>1.000000</td>\n",
       "      <td>-17.400000</td>\n",
       "      <td>0.000000</td>\n",
       "    </tr>\n",
       "    <tr>\n",
       "      <th>25%</th>\n",
       "      <td>5342.500000</td>\n",
       "      <td>4.000000</td>\n",
       "      <td>2.300000</td>\n",
       "      <td>0.000000</td>\n",
       "    </tr>\n",
       "    <tr>\n",
       "      <th>50%</th>\n",
       "      <td>6250.000000</td>\n",
       "      <td>6.000000</td>\n",
       "      <td>11.200000</td>\n",
       "      <td>0.000000</td>\n",
       "    </tr>\n",
       "    <tr>\n",
       "      <th>75%</th>\n",
       "      <td>7300.000000</td>\n",
       "      <td>9.000000</td>\n",
       "      <td>19.300000</td>\n",
       "      <td>1.000000</td>\n",
       "    </tr>\n",
       "    <tr>\n",
       "      <th>max</th>\n",
       "      <td>9950.000000</td>\n",
       "      <td>12.000000</td>\n",
       "      <td>33.600000</td>\n",
       "      <td>1.000000</td>\n",
       "    </tr>\n",
       "  </tbody>\n",
       "</table>\n",
       "</div>"
      ],
      "text/plain": [
       "           Выручка       Месяц  Температура       Дождь\n",
       "count   447.000000  447.000000   447.000000  447.000000\n",
       "mean   6267.762864    6.467562    10.965772    0.340045\n",
       "std    1473.138228    3.092476    10.760291    0.474255\n",
       "min    2400.000000    1.000000   -17.400000    0.000000\n",
       "25%    5342.500000    4.000000     2.300000    0.000000\n",
       "50%    6250.000000    6.000000    11.200000    0.000000\n",
       "75%    7300.000000    9.000000    19.300000    1.000000\n",
       "max    9950.000000   12.000000    33.600000    1.000000"
      ]
     },
     "execution_count": 13,
     "metadata": {},
     "output_type": "execute_result"
    }
   ],
   "source": [
    "dfq.describe()"
   ]
  },
  {
   "cell_type": "code",
   "execution_count": 64,
   "metadata": {},
   "outputs": [
    {
     "data": {
      "text/plain": [
       "(432, 7)"
      ]
     },
     "execution_count": 64,
     "metadata": {},
     "output_type": "execute_result"
    }
   ],
   "source": [
    "dfz.shape"
   ]
  },
  {
   "cell_type": "code",
   "execution_count": 65,
   "metadata": {},
   "outputs": [
    {
     "data": {
      "text/plain": [
       "(447, 7)"
      ]
     },
     "execution_count": 65,
     "metadata": {},
     "output_type": "execute_result"
    }
   ],
   "source": [
    "dfq.shape"
   ]
  },
  {
   "cell_type": "markdown",
   "metadata": {},
   "source": [
    "Мне больше нравится 2 сигма (dfz df) т.к. так мы уберем больше явных выбросов"
   ]
  },
  {
   "cell_type": "markdown",
   "metadata": {},
   "source": [
    "*"
   ]
  },
  {
   "cell_type": "code",
   "execution_count": 8,
   "metadata": {},
   "outputs": [],
   "source": [
    "df =pd.DataFrame(dfz)"
   ]
  },
  {
   "cell_type": "markdown",
   "metadata": {},
   "source": [
    "Можно поглядеть на график"
   ]
  },
  {
   "cell_type": "code",
   "execution_count": 10,
   "metadata": {},
   "outputs": [],
   "source": [
    "dff = pd.DataFrame(df['Выручка'])"
   ]
  },
  {
   "cell_type": "code",
   "execution_count": 148,
   "metadata": {},
   "outputs": [],
   "source": [
    "def plotMovingAverage(series, n):\n",
    "\n",
    "    \"\"\"\n",
    "    series - dataframe with timeseries\n",
    "    n - rolling window size \n",
    "\n",
    "    \"\"\"\n",
    "\n",
    "    rolling_mean = series.rolling(window=n).mean()\n",
    "\n",
    "    # При желании, можно строить и доверительные интервалы для сглаженных значений\n",
    "    rolling_std =  series.rolling(window=n).std()\n",
    "    upper_bond = rolling_mean+2*rolling_std\n",
    "    lower_bond = rolling_mean-2*rolling_std\n",
    "\n",
    "    plt.figure(figsize=(15,5))\n",
    "    plt.title(\"Moving average\\n window size = {}\".format(n))\n",
    "    plt.plot(rolling_mean, \"g\", label=\"Rolling mean trend\")\n",
    "\n",
    "    plt.plot(upper_bond, \"r--\", label=\"Upper Bond / Lower Bond\")\n",
    "    plt.plot(lower_bond, \"r--\")\n",
    "    plt.plot(dff[n:], label=\"Actual values\")\n",
    "    plt.legend(loc=\"upper left\")\n",
    "    plt.grid(True)"
   ]
  },
  {
   "cell_type": "code",
   "execution_count": 149,
   "metadata": {},
   "outputs": [
    {
     "data": {
      "image/png": "[encoded data removed]",
      "text/plain": [
       "<Figure size 1080x360 with 1 Axes>"
      ]
     },
     "metadata": {
      "needs_background": "light"
     },
     "output_type": "display_data"
    },
    {
     "data": {
      "image/png": "[encoded data removed]",
      "text/plain": [
       "<Figure size 1080x360 with 1 Axes>"
      ]
     },
     "metadata": {
      "needs_background": "light"
     },
     "output_type": "display_data"
    }
   ],
   "source": [
    "plotMovingAverage(dff, 7) # сглаживаем по неделям\n",
    "x = 15\n",
    "while x < len(df):\n",
    "    plt.axvline(x, c='y', ls='--')\n",
    "    x = x + 30\n",
    "plotMovingAverage(dff, 30) # сглаживаем по месецам\n",
    "x = 45\n",
    "while x < len(df):\n",
    "    plt.axvline(x, c='y', ls='--')\n",
    "    x = x + 30\n",
    "\n"
   ]
  },
  {
   "cell_type": "markdown",
   "metadata": {},
   "source": [
    "Конец просмотра"
   ]
  },
  {
   "cell_type": "markdown",
   "metadata": {},
   "source": [
    "_________________________________________________________________"
   ]
  },
  {
   "cell_type": "code",
   "execution_count": 9,
   "metadata": {},
   "outputs": [],
   "source": [
    "target = df['Выручка']"
   ]
  },
  {
   "cell_type": "code",
   "execution_count": 10,
   "metadata": {},
   "outputs": [],
   "source": [
    "df = df.drop(columns='Выручка')"
   ]
  },
  {
   "cell_type": "code",
   "execution_count": 11,
   "metadata": {},
   "outputs": [
    {
     "data": {
      "text/plain": [
       "count    432.000000\n",
       "mean      10.898380\n",
       "std       10.821842\n",
       "min      -17.400000\n",
       "25%        2.000000\n",
       "50%       11.150000\n",
       "75%       19.300000\n",
       "max       33.600000\n",
       "Name: Температура, dtype: float64"
      ]
     },
     "execution_count": 11,
     "metadata": {},
     "output_type": "execute_result"
    }
   ],
   "source": [
    "df['Температура'].describe()"
   ]
  },
  {
   "cell_type": "markdown",
   "metadata": {},
   "source": [
    "Поделим на категории во избежание переобучения"
   ]
  },
  {
   "cell_type": "code",
   "execution_count": 12,
   "metadata": {},
   "outputs": [],
   "source": [
    "bins = [-50, 0, 15, 25, 50]\n",
    "labels = [1, 2, 3, 4]\n",
    "df['Температура'] = pd.cut(df['Температура'], bins=bins, labels=labels)"
   ]
  },
  {
   "cell_type": "code",
   "execution_count": 13,
   "metadata": {},
   "outputs": [
    {
     "data": {
      "text/plain": [
       "0      2\n",
       "1      2\n",
       "12     3\n",
       "13     3\n",
       "14     3\n",
       "      ..\n",
       "449    3\n",
       "450    3\n",
       "451    3\n",
       "452    2\n",
       "453    3\n",
       "Name: Температура, Length: 432, dtype: category\n",
       "Categories (4, int64): [1 < 2 < 3 < 4]"
      ]
     },
     "execution_count": 13,
     "metadata": {},
     "output_type": "execute_result"
    }
   ],
   "source": [
    "df['Температура']"
   ]
  },
  {
   "cell_type": "markdown",
   "metadata": {},
   "source": [
    "Моделька"
   ]
  },
  {
   "cell_type": "code",
   "execution_count": 155,
   "metadata": {},
   "outputs": [],
   "source": [
    "#cbr = CatBoostRegressor(iterations=1000, random_seed=rs, loss_function='RMSE')\n",
    "#выдавал ~те же результаты что и catboost, потому не увидел в нем смысла"
   ]
  },
  {
   "cell_type": "markdown",
   "metadata": {},
   "source": [
    "*"
   ]
  },
  {
   "cell_type": "code",
   "execution_count": 14,
   "metadata": {},
   "outputs": [],
   "source": [
    "X_train, X_test, y_train, y_test = train_test_split(df, target, train_size=0.75, test_size=0.25, random_state=rs)"
   ]
  },
  {
   "cell_type": "code",
   "execution_count": 15,
   "metadata": {},
   "outputs": [
    {
     "data": {
      "text/plain": [
       "Index(['Девочка', 'Мальчик', 'Месяц', 'Температура', 'Дождь', 'День недели'], dtype='object')"
      ]
     },
     "execution_count": 15,
     "metadata": {},
     "output_type": "execute_result"
    }
   ],
   "source": [
    "df.columns"
   ]
  },
  {
   "cell_type": "markdown",
   "metadata": {},
   "source": [
    "gs Сatboost"
   ]
  },
  {
   "cell_type": "code",
   "execution_count": 16,
   "metadata": {},
   "outputs": [],
   "source": [
    "cat_features = ['Месяц', 'Температура', 'Дождь', 'День недели']"
   ]
  },
  {
   "cell_type": "code",
   "execution_count": 17,
   "metadata": {},
   "outputs": [],
   "source": [
    "pool = Pool(X_train, y_train, cat_features=cat_features, feature_names=list(X_train.columns))"
   ]
  },
  {
   "cell_type": "code",
   "execution_count": 60,
   "metadata": {},
   "outputs": [],
   "source": [
    "#grid = {'learning_rate': [0.03, 0.05, 0.1],\n",
    "#        'depth': [2, 4, 6, 10],\n",
    "#        'l2_leaf_reg': [1, 3, 5, 7, 9]} чем глубже, тем сильнее переобучение, тем хуже тест\n",
    "\n",
    "grid = {'iterations': [500, 1000, 2500],\n",
    "        'learning_rate': [0.03, 0.05],\n",
    "        'depth': [2, 3, 4],\n",
    "        'l2_leaf_reg': [1, 2, 3],\n",
    "        'random_state':[rs],\n",
    "        'metric_period':[250],\n",
    "        'logging_level':['Silent']}"
   ]
  },
  {
   "cell_type": "code",
   "execution_count": null,
   "metadata": {},
   "outputs": [],
   "source": [
    "gscb = CatBoost()\n",
    "gsresult = gscb.grid_search(grid, X=pool, plot=True)"
   ]
  },
  {
   "cell_type": "code",
   "execution_count": 62,
   "metadata": {},
   "outputs": [],
   "source": [
    "params = gsresult['params'] "
   ]
  },
  {
   "cell_type": "code",
   "execution_count": 18,
   "metadata": {},
   "outputs": [
    {
     "data": {
      "application/vnd.jupyter.widget-view+json": {
       "model_id": "cfab13b7d80d49dc99669844c2cbb088",
       "version_major": 2,
       "version_minor": 0
      },
      "text/plain": [
       "MetricVisualizer(layout=Layout(align_self='stretch', height='500px'))"
      ]
     },
     "metadata": {},
     "output_type": "display_data"
    },
    {
     "name": "stdout",
     "output_type": "stream",
     "text": [
      "0:\tlearn: 1377.0030380\ttotal: 166ms\tremaining: 2m 46s\n",
      "200:\tlearn: 1076.8014728\ttotal: 3.92s\tremaining: 15.6s\n",
      "400:\tlearn: 993.7463182\ttotal: 7.13s\tremaining: 10.6s\n",
      "600:\tlearn: 929.7471405\ttotal: 10.3s\tremaining: 6.85s\n",
      "800:\tlearn: 870.4568024\ttotal: 13.6s\tremaining: 3.38s\n",
      "999:\tlearn: 819.2639918\ttotal: 17.1s\tremaining: 0us\n"
     ]
    },
    {
     "data": {
      "text/plain": [
       "<catboost.core.CatBoost at 0x173c549e460>"
      ]
     },
     "execution_count": 18,
     "metadata": {},
     "output_type": "execute_result"
    }
   ],
   "source": [
    "#params = {'learning_rate':0.05, 'depth':3, 'l2_leaf_reg':1, 'random_state':rs, 'metric_period':200, 'iterations':1000}\n",
    "cbm = CatBoost(params=params)\n",
    "cbm.fit(pool, plot=True)"
   ]
  },
  {
   "cell_type": "code",
   "execution_count": 19,
   "metadata": {},
   "outputs": [],
   "source": [
    "tree_perfomance = []"
   ]
  },
  {
   "cell_type": "code",
   "execution_count": 20,
   "metadata": {},
   "outputs": [],
   "source": [
    "for step in reversed(range(1, 1001, 1)):\n",
    "    cbm.shrink(step)\n",
    "    tree_perfomance.append([step, mean_squared_error(y_test, cbm.predict(X_test))])\n",
    "    "
   ]
  },
  {
   "cell_type": "code",
   "execution_count": 21,
   "metadata": {},
   "outputs": [],
   "source": [
    "length, rmse = min(tree_perfomance, key=lambda x: x[1])"
   ]
  },
  {
   "cell_type": "code",
   "execution_count": 22,
   "metadata": {},
   "outputs": [
    {
     "data": {
      "text/plain": [
       "(39, 1204832.302037558)"
      ]
     },
     "execution_count": 22,
     "metadata": {},
     "output_type": "execute_result"
    }
   ],
   "source": [
    "length, rmse"
   ]
  },
  {
   "cell_type": "code",
   "execution_count": 23,
   "metadata": {},
   "outputs": [
    {
     "data": {
      "application/vnd.jupyter.widget-view+json": {
       "model_id": "faea1f22ea5d4ad1bb6732cb686e947e",
       "version_major": 2,
       "version_minor": 0
      },
      "text/plain": [
       "MetricVisualizer(layout=Layout(align_self='stretch', height='500px'))"
      ]
     },
     "metadata": {},
     "output_type": "display_data"
    },
    {
     "name": "stdout",
     "output_type": "stream",
     "text": [
      "0:\tlearn: 1377.0030380\ttotal: 87.3ms\tremaining: 1m 27s\n",
      "200:\tlearn: 1076.8014728\ttotal: 3.32s\tremaining: 13.2s\n",
      "400:\tlearn: 993.7463182\ttotal: 6.52s\tremaining: 9.74s\n",
      "600:\tlearn: 929.7471405\ttotal: 9.63s\tremaining: 6.39s\n",
      "800:\tlearn: 870.4568024\ttotal: 12.8s\tremaining: 3.19s\n",
      "999:\tlearn: 819.2639918\ttotal: 15.9s\tremaining: 0us\n"
     ]
    },
    {
     "data": {
      "text/plain": [
       "<catboost.core.CatBoost at 0x173f6b8dbe0>"
      ]
     },
     "execution_count": 23,
     "metadata": {},
     "output_type": "execute_result"
    }
   ],
   "source": [
    "params = {'learning_rate':0.05, 'depth':3, 'l2_leaf_reg':1, 'random_state':rs, 'metric_period':200, 'iterations':1000}\n",
    "cbm = CatBoost(params=params)\n",
    "cbm.fit(pool, plot=True)"
   ]
  },
  {
   "cell_type": "code",
   "execution_count": 24,
   "metadata": {},
   "outputs": [],
   "source": [
    "cbm.shrink(39)"
   ]
  },
  {
   "cell_type": "code",
   "execution_count": 25,
   "metadata": {},
   "outputs": [
    {
     "data": {
      "text/plain": [
       "1204832.302037558"
      ]
     },
     "execution_count": 25,
     "metadata": {},
     "output_type": "execute_result"
    }
   ],
   "source": [
    "mean_squared_error(y_test, cbm.predict(X_test)) #обучена в 1000 итераций и обрезана до 39"
   ]
  },
  {
   "cell_type": "code",
   "execution_count": 154,
   "metadata": {},
   "outputs": [
    {
     "data": {
      "text/plain": [
       "1247774.3492777476"
      ]
     },
     "execution_count": 154,
     "metadata": {},
     "output_type": "execute_result"
    }
   ],
   "source": [
    "mean_squared_error(y_test, cbm.predict(X_test)) #обучена в 100 итераций и обрезана до 39"
   ]
  },
  {
   "cell_type": "code",
   "execution_count": 125,
   "metadata": {},
   "outputs": [
    {
     "data": {
      "text/plain": [
       "1247774.3492777476"
      ]
     },
     "execution_count": 125,
     "metadata": {},
     "output_type": "execute_result"
    }
   ],
   "source": [
    "mean_squared_error(y_test, cbm.predict(X_test)) #обучена в 39 итераций"
   ]
  },
  {
   "cell_type": "markdown",
   "metadata": {},
   "source": [
    "Если обучать модель с 39 итерациями - получается другой результат, хуже <br/>\n",
    "Преполагаю, что при shirnk() убираются наименее важные деления, и в итоге повторно выбираются лучшие деления <br/>\n",
    "Разница 3.5% по метрике RMSE"
   ]
  },
  {
   "cell_type": "markdown",
   "metadata": {},
   "source": [
    "В идеале можно изучить деление деревьев до и после, но я не разберусь в происходящем"
   ]
  },
  {
   "cell_type": "code",
   "execution_count": 164,
   "metadata": {},
   "outputs": [
    {
     "data": {
      "text/plain": [
       "1.0356415137017134"
      ]
     },
     "execution_count": 164,
     "metadata": {},
     "output_type": "execute_result"
    }
   ],
   "source": [
    "1247774.349/1204832.302"
   ]
  },
  {
   "cell_type": "markdown",
   "metadata": {},
   "source": [
    "____________________________________________________________________"
   ]
  },
  {
   "cell_type": "markdown",
   "metadata": {},
   "source": [
    "cbm не умеет в grid лосс функций (или я не разобрался с встроенным гридом)"
   ]
  },
  {
   "cell_type": "markdown",
   "metadata": {},
   "source": [
    "Тест лоссфункций простым перебором вручную, уже известно что лучшими показателями на отложенной выборке оказались lr=0.05, d=3, l2lr=1"
   ]
  },
  {
   "cell_type": "markdown",
   "metadata": {},
   "source": [
    "Метрика при обучении / результат в rmse <br/>\n",
    "RMSE 1243385.82 46 iter <br/>\n",
    "RMSE 1404311.77 1k iter<br/>\n",
    "RMSE 1694170.17 5k iter <br/>\n",
    "RMSE 1536752.13 2k iter <br/>\n",
    "RMSE 1541271.88 без столбца температура <br/>\n",
    "MAE 1471720.65 <br/>\n",
    "MAPE 1414749.41 <br/>\n",
    "Quantile 1471720.65 <br/>\n",
    "Huber 15155710.68 0.2 <br/>\n",
    "Huber  5083909.92 0.5 <br/>\n",
    "Huber  2377977.18 0.8 <br/>\n",
    "Huber  1997919.79 0.9 <br/>\n",
    "Huber  1888333.05 0.95<br/>\n",
    "Huber  1403189.48 1.5 <br/>\n",
    "Huber  1312537.61 3.0 <br/>\n",
    "Huber  1309875.98 3.5 0.7/0.3 <br/>\n",
    "Huber  1458538.07 3.5 0.75/0.25 <br/>\n",
    "Huber  1402136.98 3.5 0.75/0.25 без столбца \"температура\"<br/>\n",
    "Тут уже быстро выходит на асимптоту и не обучается толком дальше"
   ]
  },
  {
   "cell_type": "markdown",
   "metadata": {},
   "source": [
    "____________________________________________________"
   ]
  },
  {
   "cell_type": "code",
   "execution_count": 42,
   "metadata": {},
   "outputs": [
    {
     "data": {
      "text/plain": [
       "count     432.000000\n",
       "mean     6277.430556\n",
       "std      1346.993256\n",
       "min      3150.000000\n",
       "25%      5398.750000\n",
       "50%      6250.000000\n",
       "75%      7290.000000\n",
       "max      9360.000000\n",
       "Name: Выручка, dtype: float64"
      ]
     },
     "execution_count": 42,
     "metadata": {},
     "output_type": "execute_result"
    }
   ],
   "source": [
    "target.describe()"
   ]
  },
  {
   "cell_type": "code",
   "execution_count": 49,
   "metadata": {},
   "outputs": [
    {
     "data": {
      "text/plain": [
       "count     108.000000\n",
       "mean     6269.675926\n",
       "std      1215.510599\n",
       "min      3150.000000\n",
       "25%      5517.500000\n",
       "50%      6205.000000\n",
       "75%      7200.000000\n",
       "max      9305.000000\n",
       "Name: Выручка, dtype: float64"
      ]
     },
     "execution_count": 49,
     "metadata": {},
     "output_type": "execute_result"
    }
   ],
   "source": [
    "y_test.describe()"
   ]
  },
  {
   "cell_type": "code",
   "execution_count": 120,
   "metadata": {},
   "outputs": [
    {
     "data": {
      "text/html": [
       "<div>\n",
       "<style scoped>\n",
       "    .dataframe tbody tr th:only-of-type {\n",
       "        vertical-align: middle;\n",
       "    }\n",
       "\n",
       "    .dataframe tbody tr th {\n",
       "        vertical-align: top;\n",
       "    }\n",
       "\n",
       "    .dataframe thead th {\n",
       "        text-align: right;\n",
       "    }\n",
       "</style>\n",
       "<table border=\"1\" class=\"dataframe\">\n",
       "  <thead>\n",
       "    <tr style=\"text-align: right;\">\n",
       "      <th></th>\n",
       "      <th>Выручка</th>\n",
       "    </tr>\n",
       "  </thead>\n",
       "  <tbody>\n",
       "    <tr>\n",
       "      <th>count</th>\n",
       "      <td>108.000000</td>\n",
       "    </tr>\n",
       "    <tr>\n",
       "      <th>mean</th>\n",
       "      <td>22.651104</td>\n",
       "    </tr>\n",
       "    <tr>\n",
       "      <th>std</th>\n",
       "      <td>1102.530974</td>\n",
       "    </tr>\n",
       "    <tr>\n",
       "      <th>min</th>\n",
       "      <td>-2828.462942</td>\n",
       "    </tr>\n",
       "    <tr>\n",
       "      <th>25%</th>\n",
       "      <td>-688.401771</td>\n",
       "    </tr>\n",
       "    <tr>\n",
       "      <th>50%</th>\n",
       "      <td>119.496614</td>\n",
       "    </tr>\n",
       "    <tr>\n",
       "      <th>75%</th>\n",
       "      <td>813.620577</td>\n",
       "    </tr>\n",
       "    <tr>\n",
       "      <th>max</th>\n",
       "      <td>2766.592272</td>\n",
       "    </tr>\n",
       "  </tbody>\n",
       "</table>\n",
       "</div>"
      ],
      "text/plain": [
       "           Выручка\n",
       "count   108.000000\n",
       "mean     22.651104\n",
       "std    1102.530974\n",
       "min   -2828.462942\n",
       "25%    -688.401771\n",
       "50%     119.496614\n",
       "75%     813.620577\n",
       "max    2766.592272"
      ]
     },
     "execution_count": 120,
     "metadata": {},
     "output_type": "execute_result"
    }
   ],
   "source": [
    "diff = cbm.predict(X_test) - y_test\n",
    "diff = pd.DataFrame(diff)\n",
    "diff.describe()"
   ]
  },
  {
   "cell_type": "markdown",
   "metadata": {},
   "source": [
    "Получается, что Модель в среднием ошибается меньше, чем стандартное отклонение, и чему-то она все-таки научилась)"
   ]
  },
  {
   "cell_type": "markdown",
   "metadata": {},
   "source": [
    "____________________________________________________\n",
    "Ohe+le предобработка для других моделей"
   ]
  },
  {
   "cell_type": "code",
   "execution_count": 26,
   "metadata": {},
   "outputs": [],
   "source": [
    "le = LabelEncoder()"
   ]
  },
  {
   "cell_type": "code",
   "execution_count": 27,
   "metadata": {},
   "outputs": [],
   "source": [
    "dfn = df.copy()"
   ]
  },
  {
   "cell_type": "code",
   "execution_count": 28,
   "metadata": {},
   "outputs": [],
   "source": [
    "dfn['День недели'] = le.fit_transform(dfn['День недели'])"
   ]
  },
  {
   "cell_type": "code",
   "execution_count": 29,
   "metadata": {},
   "outputs": [],
   "source": [
    "ohe = OneHotEncoder()"
   ]
  },
  {
   "cell_type": "code",
   "execution_count": 30,
   "metadata": {},
   "outputs": [],
   "source": [
    "dfn = dfn.astype(int)"
   ]
  },
  {
   "cell_type": "code",
   "execution_count": 31,
   "metadata": {},
   "outputs": [],
   "source": [
    "oheded = ohe.fit_transform(dfn)"
   ]
  },
  {
   "cell_type": "code",
   "execution_count": 32,
   "metadata": {},
   "outputs": [],
   "source": [
    "X_train1, X_test1, y_train, y_test = train_test_split(oheded, target, train_size=0.75, test_size=0.25, random_state=rs)"
   ]
  },
  {
   "cell_type": "markdown",
   "metadata": {},
   "source": [
    "__________________________________________________________________________"
   ]
  },
  {
   "cell_type": "markdown",
   "metadata": {},
   "source": [
    "Random Forest Regressor выдает результаты хуже"
   ]
  },
  {
   "cell_type": "code",
   "execution_count": 32,
   "metadata": {},
   "outputs": [],
   "source": [
    "rf = RandomForestRegressor()"
   ]
  },
  {
   "cell_type": "code",
   "execution_count": 33,
   "metadata": {},
   "outputs": [],
   "source": [
    "#define your own mse and set greater_is_better=False\n",
    "mse = make_scorer(mean_squared_error,greater_is_better=False)"
   ]
  },
  {
   "cell_type": "code",
   "execution_count": 256,
   "metadata": {},
   "outputs": [],
   "source": [
    "gs = GridSearchCV(rf, scoring=mse, cv=5, return_train_score=True, param_grid={\n",
    "    'max_depth': [7], #[3,4, 5, 6, 7, 8, 9, 10, None],\n",
    "    'max_features': ['log2'], #['auto', 'log2', None],\n",
    "    'min_samples_leaf': [2], #range(1, 10),\n",
    "    'min_samples_split':[6], # range(2, 10),\n",
    "    'random_state': [rs],\n",
    "    'n_estimators': [30, 40, 50, 60, 70, 80, 90, 100, 150, 200, 250, 300]\n",
    "})"
   ]
  },
  {
   "cell_type": "code",
   "execution_count": 257,
   "metadata": {},
   "outputs": [
    {
     "data": {
      "text/plain": [
       "GridSearchCV(cv=5, estimator=RandomForestRegressor(),\n",
       "             param_grid={'max_depth': [7], 'max_features': ['log2'],\n",
       "                         'min_samples_leaf': [2], 'min_samples_split': [6],\n",
       "                         'n_estimators': [30, 40, 50, 60, 70, 80, 90, 100, 150,\n",
       "                                          200, 250, 300],\n",
       "                         'random_state': [1385]},\n",
       "             return_train_score=True,\n",
       "             scoring=make_scorer(mean_squared_error, greater_is_better=False))"
      ]
     },
     "execution_count": 257,
     "metadata": {},
     "output_type": "execute_result"
    }
   ],
   "source": [
    "gs.fit(X_train1, y_train)"
   ]
  },
  {
   "cell_type": "code",
   "execution_count": 258,
   "metadata": {},
   "outputs": [
    {
     "data": {
      "text/plain": [
       "{'max_depth': 7,\n",
       " 'max_features': 'log2',\n",
       " 'min_samples_leaf': 2,\n",
       " 'min_samples_split': 6,\n",
       " 'n_estimators': 90,\n",
       " 'random_state': 1385}"
      ]
     },
     "execution_count": 258,
     "metadata": {},
     "output_type": "execute_result"
    }
   ],
   "source": [
    "gs.best_params_"
   ]
  },
  {
   "cell_type": "code",
   "execution_count": 34,
   "metadata": {},
   "outputs": [],
   "source": [
    "rfr = RandomForestRegressor(n_estimators=90, max_depth=7, max_leaf_nodes=5, min_samples_split=6, min_samples_leaf=2, max_features='log2', random_state=rs)"
   ]
  },
  {
   "cell_type": "code",
   "execution_count": 35,
   "metadata": {},
   "outputs": [
    {
     "data": {
      "text/plain": [
       "RandomForestRegressor(max_depth=7, max_features='log2', max_leaf_nodes=5,\n",
       "                      min_samples_leaf=2, min_samples_split=6, n_estimators=90,\n",
       "                      random_state=1385)"
      ]
     },
     "execution_count": 35,
     "metadata": {},
     "output_type": "execute_result"
    }
   ],
   "source": [
    "rfr.fit(X_train1, y_train)"
   ]
  },
  {
   "cell_type": "code",
   "execution_count": 36,
   "metadata": {},
   "outputs": [
    {
     "data": {
      "text/plain": [
       "1270553.1888217423"
      ]
     },
     "execution_count": 36,
     "metadata": {},
     "output_type": "execute_result"
    }
   ],
   "source": [
    "mean_squared_error(y_test, rfr.predict(X_test1))"
   ]
  },
  {
   "cell_type": "code",
   "execution_count": 33,
   "metadata": {},
   "outputs": [],
   "source": [
    "X_lgbm = X_train.copy()"
   ]
  },
  {
   "cell_type": "code",
   "execution_count": 34,
   "metadata": {},
   "outputs": [],
   "source": [
    "X_lgbm_test = X_test.copy()"
   ]
  },
  {
   "cell_type": "code",
   "execution_count": 35,
   "metadata": {},
   "outputs": [],
   "source": [
    "for col in X_lgbm.select_dtypes(include=['int64', 'object']):\n",
    "    X_lgbm[col] = X_lgbm[col].astype('category')\n",
    "\n",
    "for col in X_lgbm_test.select_dtypes(include=['int64', 'object']):\n",
    "    X_lgbm_test[col] = X_lgbm_test[col].astype('category')\n"
   ]
  },
  {
   "cell_type": "code",
   "execution_count": 36,
   "metadata": {},
   "outputs": [
    {
     "name": "stdout",
     "output_type": "stream",
     "text": [
      "<class 'pandas.core.frame.DataFrame'>\n",
      "Int64Index: 324 entries, 53 to 389\n",
      "Data columns (total 6 columns):\n",
      " #   Column       Non-Null Count  Dtype   \n",
      "---  ------       --------------  -----   \n",
      " 0   Девочка      324 non-null    category\n",
      " 1   Мальчик      324 non-null    category\n",
      " 2   Месяц        324 non-null    category\n",
      " 3   Температура  324 non-null    category\n",
      " 4   Дождь        324 non-null    category\n",
      " 5   День недели  324 non-null    category\n",
      "dtypes: category(6)\n",
      "memory usage: 5.7 KB\n"
     ]
    }
   ],
   "source": [
    "X_lgbm.info()"
   ]
  },
  {
   "cell_type": "code",
   "execution_count": 37,
   "metadata": {},
   "outputs": [],
   "source": [
    "lgbm = LGBMRegressor()"
   ]
  },
  {
   "cell_type": "code",
   "execution_count": 175,
   "metadata": {},
   "outputs": [],
   "source": [
    "lgbm_grid = {\n",
    "    'max_depth': [2, 3, 5, 6],\n",
    "    'num_leaves': [2, 3, 4, 5, 6, 8],\n",
    "    'learning_rate':[0.01, 0.05, 0.1, 0.25],\n",
    "    'reg_lambda': [0.05, 0.1, 0.25],\n",
    "    'n_estimators':[20, 25, 30, 35],\n",
    "    'min_child_samples':[5, 10, 20, 30],\n",
    "    'random_state':[rs],\n",
    "    'n_jobs':[4]\n",
    "    }"
   ]
  },
  {
   "cell_type": "code",
   "execution_count": 176,
   "metadata": {},
   "outputs": [],
   "source": [
    "gsearch = GridSearchCV(estimator=lgbm, param_grid=lgbm_grid)"
   ]
  },
  {
   "cell_type": "code",
   "execution_count": 177,
   "metadata": {},
   "outputs": [
    {
     "data": {
      "text/plain": [
       "GridSearchCV(estimator=LGBMRegressor(),\n",
       "             param_grid={'learning_rate': [0.01, 0.05, 0.1, 0.25],\n",
       "                         'max_depth': [2, 3, 5, 6],\n",
       "                         'min_child_samples': [5, 10, 20, 30],\n",
       "                         'n_estimators': [20, 25, 30, 35], 'n_jobs': [4],\n",
       "                         'num_leaves': [2, 3, 4, 5, 6, 8],\n",
       "                         'random_state': [1385],\n",
       "                         'reg_lambda': [0.05, 0.1, 0.25]})"
      ]
     },
     "execution_count": 177,
     "metadata": {},
     "output_type": "execute_result"
    }
   ],
   "source": [
    "gsearch.fit(X_train1, y_train)"
   ]
  },
  {
   "cell_type": "code",
   "execution_count": 179,
   "metadata": {},
   "outputs": [
    {
     "data": {
      "text/plain": [
       "{'learning_rate': 0.1,\n",
       " 'max_depth': 2,\n",
       " 'min_child_samples': 5,\n",
       " 'n_estimators': 30,\n",
       " 'n_jobs': 4,\n",
       " 'num_leaves': 4,\n",
       " 'random_state': 1385,\n",
       " 'reg_lambda': 0.1}"
      ]
     },
     "execution_count": 179,
     "metadata": {},
     "output_type": "execute_result"
    }
   ],
   "source": [
    "gsearch.best_params_"
   ]
  },
  {
   "cell_type": "code",
   "execution_count": 38,
   "metadata": {},
   "outputs": [
    {
     "name": "stdout",
     "output_type": "stream",
     "text": [
      "RMSE 1115.5132641081225\n"
     ]
    }
   ],
   "source": [
    "lgbmr = LGBMRegressor(boosting_type='gbdt',\n",
    "    learning_rate=0.1,\n",
    "    max_depth=2,\n",
    "    min_child_samples=5,\n",
    "    n_estimators=30,\n",
    "    num_leaves=4,\n",
    "    reg_lambda=0.1,\n",
    "    objective='RMSE',\n",
    "    n_jobs=4, \n",
    "    random_state=rs)\n",
    "\n",
    "lgbmr.fit(X_lgbm, y_train)\n",
    "y_pred = lgbmr.predict(X_lgbm_test)\n",
    "\n",
    "\n",
    "lgbm_rmse = np.sqrt(mean_squared_error(y_test, y_pred))\n",
    "print(\"RMSE\", np.mean(lgbm_rmse))"
   ]
  },
  {
   "cell_type": "code",
   "execution_count": 39,
   "metadata": {},
   "outputs": [
    {
     "name": "stdout",
     "output_type": "stream",
     "text": [
      "RMSE 1097.6485330184512\n"
     ]
    }
   ],
   "source": [
    "cbm_rmse = np.sqrt(mean_squared_error(y_test, cbm.predict(X_test)))\n",
    "print(\"RMSE\", np.mean(cbm_rmse))"
   ]
  },
  {
   "cell_type": "markdown",
   "metadata": {},
   "source": [
    "_________________________________________________________________"
   ]
  },
  {
   "cell_type": "markdown",
   "metadata": {},
   "source": [
    "Разница предикта и истинных значений"
   ]
  },
  {
   "cell_type": "code",
   "execution_count": 45,
   "metadata": {},
   "outputs": [],
   "source": [
    "from sklearn.neighbors import KNeighborsRegressor\n",
    "knr = KNeighborsRegressor(n_neighbors=10, weights='uniform', algorithm='auto', n_jobs=4)\n",
    "#algorithm{‘auto’, ‘ball_tree’, ‘kd_tree’, ‘brute’}\n",
    "#weights{‘uniform’, ‘distance’} \n",
    "#p1/2 манх/эквлид дист\n"
   ]
  },
  {
   "cell_type": "code",
   "execution_count": 46,
   "metadata": {},
   "outputs": [
    {
     "data": {
      "text/plain": [
       "KNeighborsRegressor(n_jobs=4, n_neighbors=10)"
      ]
     },
     "execution_count": 46,
     "metadata": {},
     "output_type": "execute_result"
    }
   ],
   "source": [
    "knr.fit(X_train1, y_train)"
   ]
  },
  {
   "cell_type": "code",
   "execution_count": 47,
   "metadata": {},
   "outputs": [
    {
     "data": {
      "text/plain": [
       "1316201.349537037"
      ]
     },
     "execution_count": 47,
     "metadata": {},
     "output_type": "execute_result"
    }
   ],
   "source": [
    "mean_squared_error(y_test, knr.predict(X_test1))"
   ]
  },
  {
   "cell_type": "markdown",
   "metadata": {},
   "source": [
    "_________________________________________________________________"
   ]
  },
  {
   "cell_type": "markdown",
   "metadata": {},
   "source": [
    "Блендинг трех моделей"
   ]
  },
  {
   "cell_type": "code",
   "execution_count": 65,
   "metadata": {},
   "outputs": [],
   "source": [
    "def select_weights(y_true, y_pred_1, y_pred_2, y_pred_3):\n",
    "    metric = []\n",
    "    grid = np.linspace(0, 1, 1000)\n",
    "    for w_2 in grid:\n",
    "      for w_0 in grid:\n",
    "        w_1 = 1 - w_0\n",
    "        y = y_pred_1 * w_0 + y_pred_2 * w_1 + y_pred_3 * w_2\n",
    "\n",
    "        metric.append([mean_squared_error(y_true, y), w_0, w_1, w_2])\n",
    "\n",
    "    return metric "
   ]
  },
  {
   "cell_type": "code",
   "execution_count": 87,
   "metadata": {},
   "outputs": [],
   "source": [
    "rmse_blending_test, w_0, w_1, w_2 = min(select_weights(y_test, knr.predict(X_test1), cbm.predict(X_test), lgbmr.predict(X_lgbm_test)), key=lambda x: x[0])"
   ]
  },
  {
   "cell_type": "code",
   "execution_count": 92,
   "metadata": {},
   "outputs": [
    {
     "data": {
      "text/plain": [
       "1196258.9551755053"
      ]
     },
     "execution_count": 92,
     "metadata": {},
     "output_type": "execute_result"
    }
   ],
   "source": [
    "rmse_blending_test "
   ]
  },
  {
   "cell_type": "code",
   "execution_count": 156,
   "metadata": {},
   "outputs": [
    {
     "data": {
      "text/plain": [
       "(0.2182182182182182, 0.7817817817817818, 0.002002002002002002)"
      ]
     },
     "execution_count": 156,
     "metadata": {},
     "output_type": "execute_result"
    }
   ],
   "source": [
    "w_0, w_1, w_2 #попробовал обучить на ответах дерево и линейку, но результат получился хуже и в треине, и в тесте"
   ]
  },
  {
   "cell_type": "code",
   "execution_count": 148,
   "metadata": {},
   "outputs": [
    {
     "data": {
      "text/plain": [
       "1196258.9551755053"
      ]
     },
     "execution_count": 148,
     "metadata": {},
     "output_type": "execute_result"
    }
   ],
   "source": [
    "mean_squared_error(y_test, knr.predict(X_test1)*w_0+cbm.predict(X_test)*w_1+lgbmr.predict(X_lgbm_test)*w_2)"
   ]
  },
  {
   "cell_type": "markdown",
   "metadata": {},
   "source": [
    "__________________________________________"
   ]
  },
  {
   "cell_type": "markdown",
   "metadata": {},
   "source": [
    "Обучение случайного леса на предсказаниях других моделей"
   ]
  },
  {
   "cell_type": "code",
   "execution_count": 322,
   "metadata": {},
   "outputs": [],
   "source": [
    "x1 = knr.predict(X_train1)\n",
    "x2 = cbm.predict(X_train)\n",
    "x3 = lgbmr.predict(X_lgbm)"
   ]
  },
  {
   "cell_type": "code",
   "execution_count": 323,
   "metadata": {},
   "outputs": [],
   "source": [
    "Xlr = pd.DataFrame(x1)\n",
    "Xlr['x2'] = x2\n",
    "Xlr['x3'] = x3\n",
    "Xlr = Xlr.rename(columns={0:'x1'}, errors='raise')"
   ]
  },
  {
   "cell_type": "code",
   "execution_count": 324,
   "metadata": {},
   "outputs": [],
   "source": [
    "Xlrt = pd.DataFrame(knr.predict(X_test1))\n",
    "Xlrt['x2'] = cbm.predict(X_test)\n",
    "Xlrt['x3'] = lgbmr.predict(X_lgbm_test)\n",
    "Xlrt = Xlrt.rename(columns={0:'x1'})"
   ]
  },
  {
   "cell_type": "code",
   "execution_count": 330,
   "metadata": {},
   "outputs": [
    {
     "data": {
      "text/plain": [
       "RandomForestRegressor(max_depth=3, n_estimators=2, random_state=1385)"
      ]
     },
     "execution_count": 330,
     "metadata": {},
     "output_type": "execute_result"
    }
   ],
   "source": [
    "rfrblend = RandomForestRegressor(n_estimators=2, max_depth=3, random_state=rs)\n",
    "rfrblend.fit(Xlr, y_train)"
   ]
  },
  {
   "cell_type": "code",
   "execution_count": 331,
   "metadata": {},
   "outputs": [
    {
     "data": {
      "text/plain": [
       "1120692.8772326047"
      ]
     },
     "execution_count": 331,
     "metadata": {},
     "output_type": "execute_result"
    }
   ],
   "source": [
    "mean_squared_error(y_test, rfrblend.predict(Xlrt))"
   ]
  },
  {
   "cell_type": "code",
   "execution_count": 346,
   "metadata": {},
   "outputs": [
    {
     "data": {
      "text/plain": [
       "array([0.35812159, 0.47078777, 0.17109064])"
      ]
     },
     "execution_count": 346,
     "metadata": {},
     "output_type": "execute_result"
    }
   ],
   "source": [
    "rfrblend.feature_importances_"
   ]
  },
  {
   "cell_type": "markdown",
   "metadata": {},
   "source": [
    "__________________________"
   ]
  },
  {
   "cell_type": "code",
   "execution_count": 157,
   "metadata": {},
   "outputs": [],
   "source": [
    "blendingres = knr.predict(X_test1)*w_0+cbm.predict(X_test)*w_1+lgbmr.predict(X_lgbm_test)*w_2 - y_test"
   ]
  },
  {
   "cell_type": "code",
   "execution_count": 332,
   "metadata": {},
   "outputs": [],
   "source": [
    "rfrblended = rfrblend.predict(Xlrt) - y_test"
   ]
  },
  {
   "cell_type": "markdown",
   "metadata": {},
   "source": []
  },
  {
   "cell_type": "markdown",
   "metadata": {},
   "source": []
  },
  {
   "cell_type": "code",
   "execution_count": 336,
   "metadata": {},
   "outputs": [
    {
     "data": {
      "text/plain": [
       "count     108.000000\n",
       "mean     6269.675926\n",
       "std      1215.510599\n",
       "min      3150.000000\n",
       "25%      5517.500000\n",
       "50%      6205.000000\n",
       "75%      7200.000000\n",
       "max      9305.000000\n",
       "Name: Выручка, dtype: float64"
      ]
     },
     "execution_count": 336,
     "metadata": {},
     "output_type": "execute_result"
    }
   ],
   "source": [
    "y_test.describe() #распределение в тестовых данных"
   ]
  },
  {
   "cell_type": "code",
   "execution_count": 401,
   "metadata": {},
   "outputs": [
    {
     "data": {
      "text/html": [
       "<div>\n",
       "<style scoped>\n",
       "    .dataframe tbody tr th:only-of-type {\n",
       "        vertical-align: middle;\n",
       "    }\n",
       "\n",
       "    .dataframe tbody tr th {\n",
       "        vertical-align: top;\n",
       "    }\n",
       "\n",
       "    .dataframe thead th {\n",
       "        text-align: right;\n",
       "    }\n",
       "</style>\n",
       "<table border=\"1\" class=\"dataframe\">\n",
       "  <thead>\n",
       "    <tr style=\"text-align: right;\">\n",
       "      <th></th>\n",
       "      <th>0</th>\n",
       "    </tr>\n",
       "  </thead>\n",
       "  <tbody>\n",
       "    <tr>\n",
       "      <th>count</th>\n",
       "      <td>108.000000</td>\n",
       "    </tr>\n",
       "    <tr>\n",
       "      <th>mean</th>\n",
       "      <td>6274.041293</td>\n",
       "    </tr>\n",
       "    <tr>\n",
       "      <th>std</th>\n",
       "      <td>485.242238</td>\n",
       "    </tr>\n",
       "    <tr>\n",
       "      <th>min</th>\n",
       "      <td>4851.626838</td>\n",
       "    </tr>\n",
       "    <tr>\n",
       "      <th>25%</th>\n",
       "      <td>6000.982164</td>\n",
       "    </tr>\n",
       "    <tr>\n",
       "      <th>50%</th>\n",
       "      <td>6418.070392</td>\n",
       "    </tr>\n",
       "    <tr>\n",
       "      <th>75%</th>\n",
       "      <td>6574.369757</td>\n",
       "    </tr>\n",
       "    <tr>\n",
       "      <th>max</th>\n",
       "      <td>7060.471197</td>\n",
       "    </tr>\n",
       "  </tbody>\n",
       "</table>\n",
       "</div>"
      ],
      "text/plain": [
       "                 0\n",
       "count   108.000000\n",
       "mean   6274.041293\n",
       "std     485.242238\n",
       "min    4851.626838\n",
       "25%    6000.982164\n",
       "50%    6418.070392\n",
       "75%    6574.369757\n",
       "max    7060.471197"
      ]
     },
     "execution_count": 401,
     "metadata": {},
     "output_type": "execute_result"
    }
   ],
   "source": [
    "blendres = knr.predict(X_test1)*w_0+cbm.predict(X_test)*w_1+lgbmr.predict(X_lgbm_test)*w_2\n",
    "blendres = pd.DataFrame(blendres)\n",
    "blendres.describe()"
   ]
  },
  {
   "cell_type": "code",
   "execution_count": 402,
   "metadata": {},
   "outputs": [
    {
     "data": {
      "text/html": [
       "<div>\n",
       "<style scoped>\n",
       "    .dataframe tbody tr th:only-of-type {\n",
       "        vertical-align: middle;\n",
       "    }\n",
       "\n",
       "    .dataframe tbody tr th {\n",
       "        vertical-align: top;\n",
       "    }\n",
       "\n",
       "    .dataframe thead th {\n",
       "        text-align: right;\n",
       "    }\n",
       "</style>\n",
       "<table border=\"1\" class=\"dataframe\">\n",
       "  <thead>\n",
       "    <tr style=\"text-align: right;\">\n",
       "      <th></th>\n",
       "      <th>0</th>\n",
       "    </tr>\n",
       "  </thead>\n",
       "  <tbody>\n",
       "    <tr>\n",
       "      <th>count</th>\n",
       "      <td>108.000000</td>\n",
       "    </tr>\n",
       "    <tr>\n",
       "      <th>mean</th>\n",
       "      <td>6212.224827</td>\n",
       "    </tr>\n",
       "    <tr>\n",
       "      <th>std</th>\n",
       "      <td>821.219328</td>\n",
       "    </tr>\n",
       "    <tr>\n",
       "      <th>min</th>\n",
       "      <td>3733.125000</td>\n",
       "    </tr>\n",
       "    <tr>\n",
       "      <th>25%</th>\n",
       "      <td>5711.543706</td>\n",
       "    </tr>\n",
       "    <tr>\n",
       "      <th>50%</th>\n",
       "      <td>6183.919499</td>\n",
       "    </tr>\n",
       "    <tr>\n",
       "      <th>75%</th>\n",
       "      <td>6693.750570</td>\n",
       "    </tr>\n",
       "    <tr>\n",
       "      <th>max</th>\n",
       "      <td>7885.953782</td>\n",
       "    </tr>\n",
       "  </tbody>\n",
       "</table>\n",
       "</div>"
      ],
      "text/plain": [
       "                 0\n",
       "count   108.000000\n",
       "mean   6212.224827\n",
       "std     821.219328\n",
       "min    3733.125000\n",
       "25%    5711.543706\n",
       "50%    6183.919499\n",
       "75%    6693.750570\n",
       "max    7885.953782"
      ]
     },
     "execution_count": 402,
     "metadata": {},
     "output_type": "execute_result"
    }
   ],
   "source": [
    "rfrres = rfrblend.predict(Xlrt)\n",
    "rfrres = pd.DataFrame(rfrres)\n",
    "rfrres.describe()"
   ]
  },
  {
   "cell_type": "markdown",
   "metadata": {},
   "source": [
    "Больше нравятся результаты, которые выдает, обученный на предсказаниях, случайный лес"
   ]
  },
  {
   "cell_type": "markdown",
   "metadata": {},
   "source": [
    "____________________________________________________________________________________"
   ]
  },
  {
   "cell_type": "code",
   "execution_count": null,
   "metadata": {},
   "outputs": [],
   "source": [
    "x1 = knr.predict(X_train1)\n",
    "x2 = cbm.predict(X_train)\n",
    "x3 = lgbmr.predict(X_lgbm)\n",
    "\n",
    "rfrblend.predict()"
   ]
  },
  {
   "cell_type": "code",
   "execution_count": 390,
   "metadata": {},
   "outputs": [],
   "source": [
    "x8 = 5600\n",
    "x9 = 7800\n",
    "x7 = 6200\n",
    "d = {'x1': [x8], 'x2': [x9], 'x3': [x7]}\n",
    "pred = pd.DataFrame(data=d)"
   ]
  },
  {
   "cell_type": "code",
   "execution_count": null,
   "metadata": {},
   "outputs": [],
   "source": [
    "def predictpls(day_variables):\n",
    "\n",
    "    ..................\n",
    "    x1 = knr.predict(dv)\n",
    "    x2 = cbm.predict(dv)\n",
    "    x3 = lgbmr.predict(dv)\n",
    "    data = {'x1':[x1], 'x2':[x2], 'x3':[x3]}\n",
    "    pred = pd.DataFrame(data=data)"
   ]
  },
  {
   "cell_type": "markdown",
   "metadata": {},
   "source": [
    "_________________________________________________________________________"
   ]
  },
  {
   "cell_type": "markdown",
   "metadata": {},
   "source": [
    "Одна из проблем деревьев - они не могут предсказывать значения выше/ниже ранее виденных\n",
    "Т.е. дерево не сможет предсказать значение выручки выше 9500"
   ]
  },
  {
   "cell_type": "markdown",
   "metadata": {},
   "source": [
    "Изначально мне было интереснее всего то, кто из бариста вносит больший вклад <br/>\n",
    "Из весов стали очевидны два вывода:\n",
    "\n",
    "1. Бариста девочка имеет больший вес <br/>\n",
    "2. Бариста в принципе имеют минимальный вес, а выручка носит сезонный характер"
   ]
  },
  {
   "cell_type": "markdown",
   "metadata": {},
   "source": [
    "_______________________________________________________________________________"
   ]
  },
  {
   "cell_type": "markdown",
   "metadata": {},
   "source": [
    "Добавить колонку с средним за последние 3/5/7 дней"
   ]
  },
  {
   "cell_type": "markdown",
   "metadata": {},
   "source": [
    "Написать отдельный файл с сохраненными моделями"
   ]
  },
  {
   "cell_type": "markdown",
   "metadata": {},
   "source": [
    "Сделать функцию, в которую можно помещать сегодняшние переменные,  чтобы одна модель выдавала предсказание"
   ]
  }
 ],
 "metadata": {
  "kernelspec": {
   "display_name": "Python 3.9.6 64-bit",
   "language": "python",
   "name": "python3"
  },
  "language_info": {
   "codemirror_mode": {
    "name": "ipython",
    "version": 3
   },
   "file_extension": ".py",
   "mimetype": "text/x-python",
   "name": "python",
   "nbconvert_exporter": "python",
   "pygments_lexer": "ipython3",
   "version": "3.9.6"
  },
  "orig_nbformat": 4,
  "vscode": {
   "interpreter": {
    "hash": "1b24010e48f9066a6a90c6c06fb102c81381300da92a8a7b4c6691d23d6bcce8"
   }
  }
 },
 "nbformat": 4,
 "nbformat_minor": 2
}
